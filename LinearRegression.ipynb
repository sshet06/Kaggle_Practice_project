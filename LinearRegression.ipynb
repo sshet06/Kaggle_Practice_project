{
 "cells": [
  {
   "cell_type": "code",
   "execution_count": null,
   "metadata": {
    "colab": {},
    "colab_type": "code",
    "id": "dqPXIJNXv6kz",
    "scrolled": false
   },
   "outputs": [],
   "source": [
    "#if you want to run this notebook in colab, to upload the train and test file, use this block of code\n",
    "from google.colab import files\n",
    "\n",
    "uploaded = files.upload()\n",
    "\n",
    "for fn in uploaded.keys():\n",
    "  print('User uploaded file \"{name}\" with length {length} bytes'.format(\n",
    "      name=fn, length=len(uploaded[fn])))"
   ]
  },
  {
   "cell_type": "code",
   "execution_count": 1,
   "metadata": {
    "colab": {},
    "colab_type": "code",
    "id": "f2nzcEsk-bZT"
   },
   "outputs": [],
   "source": [
    "import pandas as pd\n",
    "import numpy as np\n",
    "import matplotlib.pyplot as plt\n",
    "import seaborn as sns\n",
    "from scipy.stats import norm ,skew\n",
    "import warnings\n",
    "def ignore_warn(*args, **kwargs):\n",
    "    pass\n",
    "warnings.warn = ignore_warn"
   ]
  },
  {
   "cell_type": "code",
   "execution_count": 2,
   "metadata": {
    "colab": {},
    "colab_type": "code",
    "id": "VhGq29EL_C-D"
   },
   "outputs": [],
   "source": [
    "train=pd.read_csv('./train.csv')\n",
    "test=pd.read_csv('./test.csv')"
   ]
  },
  {
   "cell_type": "markdown",
   "metadata": {
    "colab_type": "text",
    "id": "2P7eg15DCsz4"
   },
   "source": [
    "Data PreProcessing - Outlier Removal"
   ]
  },
  {
   "cell_type": "code",
   "execution_count": null,
   "metadata": {
    "colab": {},
    "colab_type": "code",
    "id": "qQ7DvirG_fVN"
   },
   "outputs": [],
   "source": [
    "#There are 2 data points that are shows very low SalePrice for bigger plots. We need to eliminate them.\n",
    "fg,ax=plt.subplots()\n",
    "ax.scatter(train['GrLivArea'],train['SalePrice'])\n",
    "plt.xlabel(\"GrLivArea\")\n",
    "plt.ylabel(\"SalePrice\")\n",
    "plt.show()                            "
   ]
  },
  {
   "cell_type": "code",
   "execution_count": null,
   "metadata": {
    "colab": {},
    "colab_type": "code",
    "id": "PfZZH8fyDHK5"
   },
   "outputs": [],
   "source": [
    "train=train.drop(train[(train['GrLivArea']>4000) & (train['SalePrice']<300000)].index)"
   ]
  },
  {
   "cell_type": "markdown",
   "metadata": {
    "colab_type": "text",
    "id": "hTlOHKWgIYI6"
   },
   "source": [
    "Analysis of Target Variable(SalePrice)\n"
   ]
  },
  {
   "cell_type": "code",
   "execution_count": null,
   "metadata": {
    "colab": {},
    "colab_type": "code",
    "id": "ou0sy0_1Eyqm"
   },
   "outputs": [],
   "source": [
    "#Target Values are negatively skewed\n",
    "sns.distplot(train['SalePrice'] , fit=norm)\n",
    "plt.ylabel('Ftrequency')\n",
    "plt.title(\"SalePrice Distribution\")\n",
    "plt.show()"
   ]
  },
  {
   "cell_type": "code",
   "execution_count": null,
   "metadata": {
    "colab": {},
    "colab_type": "code",
    "id": "M7cNBFJeF1q9"
   },
   "outputs": [],
   "source": [
    "#Log Tranform the target variable to make it less skewed\n",
    "train['SalePrice']=np.log1p(train[\"SalePrice\"])\n",
    "sns.distplot(train['SalePrice'] , fit=norm)\n",
    "plt.ylabel('Ftrequency')\n",
    "plt.title(\"SalePrice Distribution\")\n",
    "plt.show()"
   ]
  },
  {
   "cell_type": "markdown",
   "metadata": {
    "colab_type": "text",
    "id": "_aZVUeMII5QL"
   },
   "source": [
    "Feature Engineering : Missing Data"
   ]
  },
  {
   "cell_type": "code",
   "execution_count": null,
   "metadata": {
    "colab": {},
    "colab_type": "code",
    "id": "_KVKAF7SIOHH"
   },
   "outputs": [],
   "source": [
    "ntrain = train.shape[0]\n",
    "ntest = test.shape[0]\n",
    "y_train = train.SalePrice.values\n",
    "all_data = pd.concat((train, test)).reset_index(drop=True)\n",
    "all_data.drop(['SalePrice'], axis=1, inplace=True)"
   ]
  },
  {
   "cell_type": "code",
   "execution_count": null,
   "metadata": {
    "colab": {},
    "colab_type": "code",
    "id": "7VX_iyz0LJ0b"
   },
   "outputs": [],
   "source": [
    "NA_all_data = (all_data.isnull().sum())\n",
    "NA_all_data = NA_all_data.drop(NA_all_data[NA_all_data == 0].index).sort_values(ascending=False)[:30]\n"
   ]
  },
  {
   "cell_type": "code",
   "execution_count": null,
   "metadata": {
    "colab": {},
    "colab_type": "code",
    "id": "O5CeSmVALkkd"
   },
   "outputs": [],
   "source": [
    "f, ax = plt.subplots(figsize=(10, 10))\n",
    "plt.xticks(rotation='90')\n",
    "sns.barplot(x=NA_all_data.index, y=NA_all_data)\n",
    "plt.xlabel('Features', fontsize=15)\n",
    "plt.ylabel('Missing values', fontsize=15)\n",
    "plt.title('Missing data of feature', fontsize=15)"
   ]
  },
  {
   "cell_type": "code",
   "execution_count": null,
   "metadata": {
    "colab": {},
    "colab_type": "code",
    "id": "qH6DZtcwLmDH"
   },
   "outputs": [],
   "source": [
    "Correlation=all_data.corr()\n",
    "plt.subplots(figsize=(10,10))\n",
    "sns.heatmap(Correlation,vmax=0.9, square=True)"
   ]
  },
  {
   "cell_type": "markdown",
   "metadata": {
    "colab_type": "text",
    "id": "_bk2IUdOcU5_"
   },
   "source": [
    "Filling In Missing Values"
   ]
  },
  {
   "cell_type": "code",
   "execution_count": null,
   "metadata": {
    "colab": {},
    "colab_type": "code",
    "id": "AOqOUiN4LovM"
   },
   "outputs": [],
   "source": [
    "all_data[\"PoolQC\"] = all_data[\"PoolQC\"].fillna(\"None\")\n",
    "all_data[\"MiscFeature\"] = all_data[\"MiscFeature\"].fillna(\"None\")\n",
    "all_data[\"Alley\"] = all_data[\"Alley\"].fillna(\"None\")\n",
    "all_data[\"Fence\"] = all_data[\"Fence\"].fillna(\"None\")\n",
    "all_data[\"FireplaceQu\"] = all_data[\"FireplaceQu\"].fillna(\"None\")\n",
    "all_data['LotFrontage']=all_data.groupby(\"Neighborhood\")['LotFrontage'].transform(lambda x:x.fillna(x.median()))\n",
    "for col in ('GarageType', 'GarageFinish', 'GarageQual', 'GarageCond'):all_data[col] = all_data[col].fillna('None')\n",
    "for col in ('GarageYrBlt', 'GarageArea', 'GarageCars'):all_data[col] = all_data[col].fillna(0)\n",
    "for col in ('BsmtFinSF1', 'BsmtFinSF2', 'BsmtUnfSF','TotalBsmtSF', 'BsmtFullBath', 'BsmtHalfBath'):all_data[col] = all_data[col].fillna(0)\n",
    "for col in ('BsmtQual', 'BsmtCond', 'BsmtExposure', 'BsmtFinType1', 'BsmtFinType2'):all_data[col] = all_data[col].fillna('None')\n",
    "all_data[\"MasVnrType\"] = all_data[\"MasVnrType\"].fillna(\"None\")\n",
    "all_data[\"MasVnrArea\"] = all_data[\"MasVnrArea\"].fillna(0)\n",
    "all_data['MSZoning'] = all_data['MSZoning'].fillna(all_data['MSZoning'].mode()[0])\n",
    "all_data[\"Utilities\"] = all_data[\"Utilities\"].fillna(\"AllPub\")\n",
    "all_data[\"Functional\"] = all_data[\"Functional\"].fillna(\"Typ\")\n",
    "all_data['Electrical'] = all_data['Electrical'].fillna(all_data['Electrical'].mode()[0])\n",
    "all_data['KitchenQual'] = all_data['KitchenQual'].fillna(all_data['KitchenQual'].mode()[0])\n",
    "all_data['Exterior1st'] = all_data['Exterior1st'].fillna(all_data['Exterior1st'].mode()[0])\n",
    "all_data['Exterior2nd'] = all_data['Exterior2nd'].fillna(all_data['Exterior2nd'].mode()[0])\n",
    "all_data['SaleType'] = all_data['SaleType'].fillna(all_data['SaleType'].mode()[0])\n",
    "all_data['MSSubClass'] = all_data['MSSubClass'].fillna(\"None\")"
   ]
  },
  {
   "cell_type": "code",
   "execution_count": null,
   "metadata": {
    "colab": {},
    "colab_type": "code",
    "id": "ttHWvmO9RRhJ"
   },
   "outputs": [],
   "source": [
    "#Log Transforming Numeric features\n",
    "numeric_index=all_data.dtypes[all_data.dtypes!='object'].index\n",
    "skewed_features=all_data[numeric_index].apply(lambda x:skew(x)).sort_values(ascending=False)\n",
    "skewed_features=skewed_features[abs(skewed_features)>0.5].index\n",
    "all_data[skewed_features]=np.log1p(all_data[skewed_features])"
   ]
  },
  {
   "cell_type": "code",
   "execution_count": null,
   "metadata": {
    "colab": {},
    "colab_type": "code",
    "id": "Ri4FiM0Qsv07"
   },
   "outputs": [],
   "source": [
    "#Getting dummy categorical features . Since We havent converted catgorical we have many columns\n",
    "all_data = pd.get_dummies(all_data)\n"
   ]
  },
  {
   "cell_type": "markdown",
   "metadata": {
    "colab_type": "text",
    "id": "cv7wfg4M7eQZ"
   },
   "source": [
    "Modelling:"
   ]
  },
  {
   "cell_type": "code",
   "execution_count": null,
   "metadata": {
    "colab": {},
    "colab_type": "code",
    "id": "YAht9r6gvslD"
   },
   "outputs": [],
   "source": [
    "Xtrain=all_data[:train.shape[0]]\n",
    "Xtest=all_data[train.shape[0]:]\n",
    "y=train.SalePrice"
   ]
  },
  {
   "cell_type": "code",
   "execution_count": null,
   "metadata": {
    "colab": {},
    "colab_type": "code",
    "id": "ApbEAY08w3rm"
   },
   "outputs": [],
   "source": [
    "from sklearn.metrics import mean_squared_error, make_scorer\n",
    "from sklearn.model_selection import cross_val_score\n",
    "from sklearn.linear_model import LinearRegression,Ridge, RidgeCV, LassoCV, ElasticNetCV\n",
    "scorer=make_scorer(mean_squared_error,greater_is_better = False)\n",
    "\n",
    "def RMSE(model):\n",
    "  rmse=np.sqrt(-cross_val_score(model,Xtrain,y,scoring=scorer,cv=10))\n",
    "  return rmse\n",
    "  "
   ]
  },
  {
   "cell_type": "code",
   "execution_count": null,
   "metadata": {
    "colab": {
     "base_uri": "https://localhost:8080/",
     "height": 34
    },
    "colab_type": "code",
    "id": "ALfDFTLhlZmZ",
    "outputId": "5ad90baa-3a6a-4651-d378-5da935b49bbc"
   },
   "outputs": [],
   "source": [
    "# Linear Regression without Regularization \n",
    "lr=LinearRegression()\n",
    "lr.fit(Xtrain,y)\n",
    "print(\"Validation Error:{0}\".format(RMSE(lr).mean()))"
   ]
  },
  {
   "cell_type": "code",
   "execution_count": null,
   "metadata": {
    "colab": {},
    "colab_type": "code",
    "id": "fkFZzBKD5ZPo"
   },
   "outputs": [],
   "source": [
    "#plot The residuals\n",
    "train_pred=lr.predict(Xtrain)\n",
    "plt.scatter(train_pred,train_pred-y)\n",
    "plt.title(\"Training Residual\")\n",
    "plt.xlabel(\"Predicted\")\n",
    "plt.ylabel(\"Residual\")\n",
    "plt.hlines(y = 0, xmin = train_pred.min(), xmax = train_pred.max() , color = \"red\")\n",
    "plt.show()"
   ]
  },
  {
   "cell_type": "code",
   "execution_count": null,
   "metadata": {
    "colab": {},
    "colab_type": "code",
    "id": "0TLwSHraReSg"
   },
   "outputs": [],
   "source": [
    "#Linear Regression with Ridge regularization (L2 penalty)\n",
    "alphas = [0.01, 0.03, 0.06, 0.1, 0.3, 0.6, 1, 3, 6, 10, 30, 60]\n",
    "ridge=[RMSE(Ridge(alpha=alpha)).mean() for alpha in alphas]\n",
    "ridge=pd.Series(ridge,index=alphas)\n",
    "ridge.plot(title=\"Validation Error\")\n",
    "print(\"Validation Error:{0}\".format(ridge.min()))"
   ]
  },
  {
   "cell_type": "code",
   "execution_count": null,
   "metadata": {
    "colab": {},
    "colab_type": "code",
    "id": "It7PxYyBYduQ"
   },
   "outputs": [],
   "source": [
    "lr_L2=Ridge(alpha=6)\n",
    "lr_L2.fit(Xtrain,y)\n",
    "train_pred=lr_L2.predict(Xtrain)\n",
    "plt.scatter(train_pred,train_pred-y)\n",
    "plt.title(\"Training Residual\")\n",
    "plt.xlabel(\"Predicted\")\n",
    "plt.ylabel(\"Residual\")\n",
    "plt.hlines(y = 0, xmin = train_pred.min(), xmax = train_pred.max() , color = \"red\")\n",
    "plt.show()"
   ]
  },
  {
   "cell_type": "code",
   "execution_count": null,
   "metadata": {
    "colab": {},
    "colab_type": "code",
    "id": "JrRgpL_UbUFY"
   },
   "outputs": [],
   "source": [
    "#Linear Regression with Lasso regularization (L1 penalty)\n",
    "lr_L1=LassoCV(alphas=[0.0001, 0.0003, 0.0006, 0.001, 0.003, 0.006, 0.01, 0.03, 0.06, 0.1, \n",
    "                          0.3, 0.6, 1]).fit(Xtrain,y)\n",
    "print(\"Validation Error:{0}\".format(RMSE(lr_L1).mean()))"
   ]
  },
  {
   "cell_type": "code",
   "execution_count": null,
   "metadata": {
    "colab": {},
    "colab_type": "code",
    "id": "eeUqvf2Wgz60"
   },
   "outputs": [],
   "source": [
    "Selected_Coeff=pd.Series(lr_L1.coef_,index=Xtrain.columns)\n",
    "print(\"Lasso Selected {0} features and eliminated {1}\".format(sum(Selected_Coeff!=0),sum(Selected_Coeff==0)))\n",
    "imp_coeff=pd.concat([Selected_Coeff.sort_values().head(10),Selected_Coeff.sort_values().tail(10)])\n",
    "imp_coeff.plot(kind = \"barh\")\n",
    "plt.title(\"Coefficients in the Lasso Model\")\n",
    "plt.show()"
   ]
  },
  {
   "cell_type": "code",
   "execution_count": null,
   "metadata": {
    "colab": {},
    "colab_type": "code",
    "id": "3MEsXyyeg6D5"
   },
   "outputs": [],
   "source": [
    "plt.scatter(lr_L1.predict(Xtrain),lr_L1.predict(Xtrain)-y)\n",
    "plt.title(\"Training Data Residuals\")\n",
    "plt.xlabel(\"Predicted training Data\")\n",
    "plt.ylabel(\"Residuals\")\n",
    "plt.hlines(y = 0, xmin = lr_L1.predict(Xtrain).min(), xmax = lr_L1.predict(Xtrain).max() , color = \"red\")\n",
    "plt.show()"
   ]
  }
 ],
 "metadata": {
  "colab": {
   "collapsed_sections": [],
   "name": "LinearRegression.ipynb",
   "provenance": [],
   "version": "0.3.2"
  },
  "kernelspec": {
   "display_name": "Python 3",
   "language": "python",
   "name": "python3"
  },
  "language_info": {
   "codemirror_mode": {
    "name": "ipython",
    "version": 3
   },
   "file_extension": ".py",
   "mimetype": "text/x-python",
   "name": "python",
   "nbconvert_exporter": "python",
   "pygments_lexer": "ipython3",
   "version": "3.7.2"
  }
 },
 "nbformat": 4,
 "nbformat_minor": 1
}
